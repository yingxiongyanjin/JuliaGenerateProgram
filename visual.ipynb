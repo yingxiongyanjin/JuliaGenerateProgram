{
 "cells": [
  {
   "cell_type": "code",
   "execution_count": null,
   "id": "293e99f1",
   "metadata": {},
   "outputs": [],
   "source": [
    "import numpy as np\n",
    "import matplotlib.pyplot as plt\n",
    "\n",
    "# 读入数据\n",
    "data = np.loadtxt('test.txt')\n",
    "\n",
    "# 显示灰度图\n",
    "plt.imshow(data, cmap='gray')\n",
    "plt.show()"
   ]
  }
 ],
 "metadata": {
  "kernelspec": {
   "display_name": "Python [conda env:dataming]",
   "language": "python",
   "name": "conda-env-dataming-py"
  },
  "language_info": {
   "codemirror_mode": {
    "name": "ipython",
    "version": 3
   },
   "file_extension": ".py",
   "mimetype": "text/x-python",
   "name": "python",
   "nbconvert_exporter": "python",
   "pygments_lexer": "ipython3",
   "version": "3.7.12"
  }
 },
 "nbformat": 4,
 "nbformat_minor": 5
}
